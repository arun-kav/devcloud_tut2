{
 "cells": [
  {
   "cell_type": "code",
   "execution_count": 7,
   "metadata": {},
   "outputs": [
    {
     "name": "stdout",
     "output_type": "stream",
     "text": [
      "Cloning into 'rfml'...\n",
      "remote: Enumerating objects: 16, done.\u001b[K\n",
      "remote: Counting objects: 100% (16/16), done.\u001b[K\n",
      "remote: Compressing objects: 100% (14/14), done.\u001b[K\n",
      "remote: Total 243 (delta 7), reused 9 (delta 2), pack-reused 227\u001b[K\n",
      "Receiving objects: 100% (243/243), 17.46 MiB | 8.05 MiB/s, done.\n",
      "Resolving deltas: 100% (40/40), done.\n",
      "/bin/sh: 0: Illegal option - \n"
     ]
    }
   ],
   "source": [
    "!git clone https://github.com/brysef/rfml.git\n",
    "!-m pip install --user -e rfml/"
   ]
  },
  {
   "cell_type": "code",
   "execution_count": 3,
   "metadata": {},
   "outputs": [
    {
     "name": "stdout",
     "output_type": "stream",
     "text": [
      "large_rf.py  rf_classifier.ipynb  rf_classy.sh\trfoink.onnx  RF_TUTORIAL.ipynb\r\n"
     ]
    }
   ],
   "source": [
    "!cd ..\n",
    "!ls"
   ]
  },
  {
   "cell_type": "code",
   "execution_count": 3,
   "metadata": {
    "scrolled": true
   },
   "outputs": [
    {
     "name": "stdout",
     "output_type": "stream",
     "text": [
      "[ INFO ] Initializing plugin for CPU device...\n",
      "[ INFO ] Reading IR...\n",
      "rf_classifier.py:123: DeprecationWarning: 'inputs' property of IENetwork class is deprecated. To access DataPtrs user need to use 'input_data' property of InputInfoPtr objects which can be accessed by 'input_info' property.\n",
      "  input_blob = next(iter(net.inputs))\n",
      "[ INFO ] Loading model to the plugin\n",
      "Preparing input blobs\n",
      "Batch size is 110\n",
      "Running inference: Batch 1\n",
      "Running inference: Batch 100\n",
      "Running inference: Batch 200\n",
      "Running inference: Batch 300\n",
      "Running inference: Batch 400\n",
      "Running inference: Batch 500\n",
      "Running inference: Batch 600\n",
      "Running inference: Batch 700\n",
      "Running inference: Batch 800\n",
      "Running inference: Batch 900\n",
      "Running inference: Batch 1000\n",
      "Running inference: Batch 1100\n",
      "Running inference: Batch 1200\n",
      "Running inference: Batch 1300\n",
      "Running inference: Batch 1400\n",
      "Running inference: Batch 1500\n",
      "Running inference: Batch 1600\n",
      "Running inference: Batch 1700\n",
      "Running inference: Batch 1800\n",
      "Running inference: Batch 1900\n",
      "Running inference: Batch 2000\n",
      "Correct 103643\n",
      "Wrong 116357\n",
      "Accuracy: 0.47110454545454544\n",
      "Top 169795 Correct: 169795\n",
      "Top 169795 Accuracy: 0.7717954545454545\n",
      "Average running time of one batch: 1.5796582698822021 ms\n",
      "Total running time of inference: 3159.3165397644043 ms\n",
      "Throughput: 69635.31423046511 FPS\n",
      "Processor: x86_64\n",
      "\n",
      "\n"
     ]
    }
   ],
   "source": [
    "!python3 rf_classifier.py -m rf_FP32.xml"
   ]
  },
  {
   "cell_type": "code",
   "execution_count": 16,
   "metadata": {},
   "outputs": [
    {
     "name": "stdout",
     "output_type": "stream",
     "text": [
      "30081.v-qsvr-1.devcloud-edge\r\n"
     ]
    }
   ],
   "source": [
    "!qsub ~/rf/rf_classy.sh -l nodes=1:i5-6500te:intel-hd-530 -N test_rfGPU "
   ]
  },
  {
   "cell_type": "code",
   "execution_count": 5,
   "metadata": {},
   "outputs": [
    {
     "name": "stdout",
     "output_type": "stream",
     "text": [
      "30079.v-qsvr-1.devcloud-edge\r\n"
     ]
    }
   ],
   "source": [
    "!qsub ~/rf/rf_classy.sh -l nodes=1:i5-6500te:hddl-f -N test_rfFPGA"
   ]
  },
  {
   "cell_type": "code",
   "execution_count": 18,
   "metadata": {},
   "outputs": [
    {
     "name": "stdout",
     "output_type": "stream",
     "text": [
      "classyrf.sh\t      rf_classifier.ipynb  rfFPGA_large.o29432\r\n",
      "FP16rfoink.bin\t      rf_classy.sh\t   rf_FPGA.o24601\r\n",
      "FP16rfoink.mapping    rf_FPGA.e24601\t   rf_GPU.e24599\r\n",
      "FP16rfoink.xml\t      rfFPGA_large.e29413  rf_GPU.e24600\r\n",
      "large_rf2.ipynb       rfFPGA_large.e29414  rf_GPU.o24599\r\n",
      "large_rf.py\t      rfFPGA_large.e29416  rf_GPU.o24600\r\n",
      "LICENSE.TXT\t      rfFPGA_large.e29417  rfml_folder\r\n",
      "lrf_FPGA.e28727       rfFPGA_large.e29426  rfoink.bin\r\n",
      "lrf_FPGA.e28734       rfFPGA_large.e29427  rfoink.labels\r\n",
      "lrf_FPGA.o28727       rfFPGA_large.e29428  rfoink.mapping\r\n",
      "lrf_FPGA.o28734       rfFPGA_large.e29429  rfoink.onnx\r\n",
      "lrf_GPU.e28745\t      rfFPGA_large.e29430  rfoink.xml\r\n",
      "lrf_GPU.e28746\t      rfFPGA_large.e29431  RML2016.10a_dict.pkl\r\n",
      "lrf_GPU.e28752\t      rfFPGA_large.e29432  RML2016.10a.tar.bz2\r\n",
      "lrf_GPU.e28753\t      rfFPGA_large.o29413  test_rfFPGA.e30079\r\n",
      "lrf_GPU.e28754\t      rfFPGA_large.o29414  test_rfFPGA.o30079\r\n",
      "lrf_GPU.o28745\t      rfFPGA_large.o29416  test_rfGPU.e30078\r\n",
      "lrf_GPU.o28746\t      rfFPGA_large.o29417  test_rfGPU.e30080\r\n",
      "lrf_GPU.o28752\t      rfFPGA_large.o29426  test_rfGPU.e30081\r\n",
      "lrf_GPU.o28753\t      rfFPGA_large.o29427  test_rfGPU.o30078\r\n",
      "lrf_GPU.o28754\t      rfFPGA_large.o29428  test_rfGPU.o30080\r\n",
      "onnx-tensorflow       rfFPGA_large.o29429  test_rfGPU.o30081\r\n",
      "rf2\t\t      rfFPGA_large.o29430\r\n",
      "rf_classification.py  rfFPGA_large.o29431\r\n"
     ]
    }
   ],
   "source": [
    "!ls"
   ]
  },
  {
   "cell_type": "code",
   "execution_count": 2,
   "metadata": {},
   "outputs": [
    {
     "name": "stdout",
     "output_type": "stream",
     "text": [
      "Model Optimizer arguments:\n",
      "Common parameters:\n",
      "\t- Path to the Input Model: \t/home/u44511/rf/rftry3.pb\n",
      "\t- Path for generated IR: \t/home/u44511/rf/rf_tutorial/.\n",
      "\t- IR output name: \trftry4_FP16\n",
      "\t- Log level: \tERROR\n",
      "\t- Batch: \tNot specified, inherited from the model\n",
      "\t- Input layers: \tNot specified, inherited from the model\n",
      "\t- Output layers: \tNot specified, inherited from the model\n",
      "\t- Input shapes: \t[110,1,2,128]\n",
      "\t- Mean values: \tNot specified\n",
      "\t- Scale values: \tNot specified\n",
      "\t- Scale factor: \tNot specified\n",
      "\t- Precision of IR: \tFP16\n",
      "\t- Enable fusing: \tTrue\n",
      "\t- Enable grouped convolutions fusing: \tTrue\n",
      "\t- Move mean values to preprocess section: \tFalse\n",
      "\t- Reverse input channels: \tFalse\n",
      "TensorFlow specific parameters:\n",
      "\t- Input model in text protobuf format: \tFalse\n",
      "\t- Path to model dump for TensorBoard: \tNone\n",
      "\t- List of shared libraries with TensorFlow custom layers implementation: \tNone\n",
      "\t- Update the configuration file with input/output node names: \tNone\n",
      "\t- Use configuration file used to generate the model with Object Detection API: \tNone\n",
      "\t- Use the config file: \tNone\n",
      "Model Optimizer version: \t\n",
      "\n",
      "[ SUCCESS ] Generated IR version 10 model.\n",
      "[ SUCCESS ] XML file: /home/u44511/rf/rf_tutorial/./rftry4_FP16.xml\n",
      "[ SUCCESS ] BIN file: /home/u44511/rf/rf_tutorial/./rftry4_FP16.bin\n",
      "[ SUCCESS ] Total execution time: 5.52 seconds. \n",
      "[ SUCCESS ] Memory consumed: 263 MB. \n"
     ]
    }
   ],
   "source": [
    "! python3 /opt/intel/openvino/deployment_tools/model_optimizer/mo_tf.py -m ~/rf/rftry3.pb --data_type FP16 --model_name rftry4_FP16 --input_shape=[110,1,2,128]"
   ]
  },
  {
   "cell_type": "code",
   "execution_count": 23,
   "metadata": {},
   "outputs": [
    {
     "name": "stdout",
     "output_type": "stream",
     "text": [
      "\r\n",
      "########################################################################\r\n",
      "#      Date:           Thu Jul 23 11:32:41 PDT 2020\r\n",
      "#    Job ID:           30079.v-qsvr-1.devcloud-edge\r\n",
      "#      User:           u44511\r\n",
      "# Resources:           neednodes=1:i5-6500te:hddl-f,nodes=1:i5-6500te:hddl-f,walltime=01:00:00\r\n",
      "########################################################################\r\n",
      "\r\n",
      "[setupvars.sh] OpenVINO environment initialized\r\n",
      "INTELFPGAOCLSDKROOT is not set\r\n",
      "Using script's current directory (/opt/altera/aocl-pro-rte/aclrte-linux64)\r\n",
      "\r\n",
      "aoc was not found, but aocl was found. Assuming only RTE is installed.\r\n",
      "\r\n",
      "AOCL_BOARD_PACKAGE_ROOT is set to /opt/intel/openvino/bitstreams/a10_vision_design_sg2_bitstreams/BSP/a10_1150_sg2. Using that.\r\n",
      "Adding /opt/altera/aocl-pro-rte/aclrte-linux64/bin to PATH\r\n",
      "Adding /opt/altera/aocl-pro-rte/aclrte-linux64/linux64/lib to LD_LIBRARY_PATH\r\n",
      "Adding /opt/altera/aocl-pro-rte/aclrte-linux64/host/linux64/lib to LD_LIBRARY_PATH\r\n",
      "Adding /opt/intel/openvino/bitstreams/a10_vision_design_sg2_bitstreams/BSP/a10_1150_sg2/linux64/lib to LD_LIBRARY_PATH\r\n",
      "aocl program: Running program from /opt/intel/openvino/bitstreams/a10_vision_design_sg2_bitstreams/BSP/a10_1150_sg2/linux64/libexec\r\n",
      "Programming device: a10gx_2ddr : Intel Vision Accelerator Design with Intel Arria 10 FPGA (acla10_1150_sg20)\r\n",
      "Program succeed. \r\n",
      "\r\n",
      "########################################################################\r\n",
      "# End of output for job 30079.v-qsvr-1.devcloud-edge\r\n",
      "# Date: Thu Jul 23 11:33:09 PDT 2020\r\n",
      "########################################################################\r\n",
      "\r\n",
      "USER_ID=[u44511]\r\n",
      "JOB_ID=[30079]\r\n",
      "JOB_RUNTIME=[26]\r\n",
      "FROM_TIME=[1595529163]\r\n",
      "TO_TIME=[1595529189]\r\n",
      "HOST_TYPE=[idc003a10_compnode_iei_tank-870_openvino2020.4_intel-core_i5-6500te_skylake_intel-hd-530_ram8gb_net1gbe_hddl-f_iei-mustang-f100-a10]\r\n",
      "EDGE_NAME=[s003-n002]\r\n",
      "INTEL_SKU=[core-i5]\r\n",
      "skipping application metrics\r\n",
      "True\r\n"
     ]
    }
   ],
   "source": [
    "!cat test_rfFPGA.o30079"
   ]
  },
  {
   "cell_type": "code",
   "execution_count": 4,
   "metadata": {},
   "outputs": [
    {
     "name": "stdout",
     "output_type": "stream",
     "text": [
      "cat: test_rfGPU.o30081: No such file or directory\r\n"
     ]
    }
   ],
   "source": [
    "!cat results/test_rfGPU."
   ]
  },
  {
   "cell_type": "code",
   "execution_count": 47,
   "metadata": {},
   "outputs": [
    {
     "name": "stdout",
     "output_type": "stream",
     "text": [
      "2020-4_PL2_FP11_AlexNet_GoogleNet_Generic.aocx\r\n",
      "2020-4_PL2_FP11_InceptionV1_ResNet_VGG.aocx\r\n",
      "2020-4_PL2_FP11_MobileNet_Clamp.aocx\r\n",
      "2020-4_PL2_FP11_RMNet.aocx\r\n",
      "2020-4_PL2_FP11_SqueezeNet.aocx\r\n",
      "2020-4_PL2_FP11_Streaming_InternalUseOnly.aocx\r\n",
      "2020-4_PL2_FP11_Streaming_Slicing_InternalUseOnly.aocx\r\n",
      "2020-4_PL2_FP11_SwishExcitation.aocx\r\n",
      "2020-4_PL2_FP11_TinyYolo_SSD300.aocx\r\n",
      "2020-4_PL2_FP11_YoloV3_ELU.aocx\r\n",
      "2020-4_PL2_FP16_AlexNet_GoogleNet_SSD300_Generic.aocx\r\n",
      "2020-4_PL2_FP16_ELU.aocx\r\n",
      "2020-4_PL2_FP16_InceptionV1_ResNet_YoloV3.aocx\r\n",
      "2020-4_PL2_FP16_MobileNet_Clamp.aocx\r\n",
      "2020-4_PL2_FP16_RMNet.aocx\r\n",
      "2020-4_PL2_FP16_SqueezeNet_TinyYolo_VGG.aocx\r\n",
      "2020-4_PL2_FP16_SwishExcitation.aocx\r\n",
      "BSP\r\n"
     ]
    }
   ],
   "source": [
    " !cd /opt/intel/openvino/bitstreams/a10_vision_design_sg2_bitstreams && ls"
   ]
  }
 ],
 "metadata": {
  "kernelspec": {
   "display_name": "Python 3 (OpenVINO)",
   "language": "python",
   "name": "c003-python_3"
  },
  "language_info": {
   "codemirror_mode": {
    "name": "ipython",
    "version": 3
   },
   "file_extension": ".py",
   "mimetype": "text/x-python",
   "name": "python",
   "nbconvert_exporter": "python",
   "pygments_lexer": "ipython3",
   "version": "3.6.9"
  },
  "toc": {
   "base_numbering": 1,
   "nav_menu": {},
   "number_sections": true,
   "sideBar": true,
   "skip_h1_title": false,
   "title_cell": "Table of Contents",
   "title_sidebar": "Contents",
   "toc_cell": false,
   "toc_position": {},
   "toc_section_display": true,
   "toc_window_display": false
  }
 },
 "nbformat": 4,
 "nbformat_minor": 2
}
